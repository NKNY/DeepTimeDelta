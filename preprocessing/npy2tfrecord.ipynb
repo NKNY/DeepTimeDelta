{
 "cells": [
  {
   "cell_type": "markdown",
   "metadata": {},
   "source": [
    "# Convert dataset to tf record\n",
    "As described in https://stackoverflow.com/questions/46820500/how-to-handle-large-amouts-of-data-in-tensorflow/47040165#47040165"
   ]
  },
  {
   "cell_type": "code",
   "execution_count": null,
   "metadata": {},
   "outputs": [],
   "source": [
    "import numpy as np\n",
    "import tensorflow as tf\n",
    "import os\n",
    "import sys\n",
    "from pathlib import Path"
   ]
  },
  {
   "cell_type": "markdown",
   "metadata": {},
   "source": [
    "## Data folder"
   ]
  },
  {
   "cell_type": "code",
   "execution_count": null,
   "metadata": {},
   "outputs": [],
   "source": [
    "# dataset_name = \"lastfm_10_pc\"\n",
    "dataset_name = \"ml-10m\""
   ]
  },
  {
   "cell_type": "code",
   "execution_count": null,
   "metadata": {},
   "outputs": [],
   "source": [
    "# Adjust your path accordingly\n",
    "data_folder = Path(\"/Users/nknyazev/Documents/Delft/Thesis/temporal/data/processed/final/\").joinpath(dataset_name)"
   ]
  },
  {
   "cell_type": "code",
   "execution_count": null,
   "metadata": {},
   "outputs": [],
   "source": [
    "subfolders = [\"train\", \"validation\", \"test\"]"
   ]
  },
  {
   "cell_type": "code",
   "execution_count": null,
   "metadata": {},
   "outputs": [],
   "source": [
    "subfolder_paths = [data_folder.joinpath(x) for x in subfolders]"
   ]
  },
  {
   "cell_type": "code",
   "execution_count": null,
   "metadata": {},
   "outputs": [],
   "source": [
    "arrays = [\"X\", \"y\", \"user_ids\", \"seq_lens\"]"
   ]
  },
  {
   "cell_type": "code",
   "execution_count": null,
   "metadata": {},
   "outputs": [],
   "source": [
    "assert os.path.exists(data_folder)"
   ]
  },
  {
   "cell_type": "markdown",
   "metadata": {},
   "source": [
    "## Conversion to TFRecords"
   ]
  },
  {
   "cell_type": "code",
   "execution_count": null,
   "metadata": {},
   "outputs": [],
   "source": [
    "def subset_to_tfrecords(output_file, **kwargs):\n",
    "    num_samples = len(kwargs[\"y\"])\n",
    "    \n",
    "    print(\"Opening writer.\")\n",
    "    writer = tf.python_io.TFRecordWriter(output_file)\n",
    "    \n",
    "    for i in range(num_samples):\n",
    "        if i % 1000 == 0:\n",
    "            print(\"Completed {}\".format(i))\n",
    "        entry = {k:v[i] for k,v in kwargs.items()}\n",
    "        serialized = entry_to_tfrecords(**entry)\n",
    "        writer.write(serialized)\n",
    "    print(\"Closing writer.\")\n",
    "    writer.close()"
   ]
  },
  {
   "cell_type": "code",
   "execution_count": null,
   "metadata": {},
   "outputs": [],
   "source": [
    "def entry_to_tfrecords(X, y, seq_lens, user_ids):\n",
    "    feature = {\n",
    "        'X': tf.train.Feature(int64_list=tf.train.Int64List(value=X.flatten())),\n",
    "        'y': tf.train.Feature(int64_list=tf.train.Int64List(value=y)),\n",
    "        'seq_lens': tf.train.Feature(int64_list=tf.train.Int64List(value=[seq_lens])),\n",
    "        'user_ids': tf.train.Feature(int64_list=tf.train.Int64List(value=[user_ids]))\n",
    "\n",
    "    }\n",
    "    example = tf.train.Example(features=tf.train.Features(feature=feature))\n",
    "    serialized = example.SerializeToString()\n",
    "    return serialized\n",
    "    "
   ]
  },
  {
   "cell_type": "code",
   "execution_count": null,
   "metadata": {},
   "outputs": [],
   "source": [
    "for subfolder_path in subfolder_paths:\n",
    "    subfolder_arrays = {k:np.load(str(subfolder_path.joinpath(k)) + \".npy\") for k in arrays}\n",
    "    subset_to_tfrecords(**subfolder_arrays, output_file=str(subfolder_path.joinpath(\"{}.tfrecords\".format(subfolder_path.stem))))\n",
    "    "
   ]
  }
 ],
 "metadata": {
  "kernelspec": {
   "display_name": "Python 3",
   "language": "python",
   "name": "python3"
  },
  "language_info": {
   "codemirror_mode": {
    "name": "ipython",
    "version": 3
   },
   "file_extension": ".py",
   "mimetype": "text/x-python",
   "name": "python",
   "nbconvert_exporter": "python",
   "pygments_lexer": "ipython3",
   "version": "3.6.5"
  },
  "varInspector": {
   "cols": {
    "lenName": 16.0,
    "lenType": 16.0,
    "lenVar": 40.0
   },
   "kernels_config": {
    "python": {
     "delete_cmd_postfix": "",
     "delete_cmd_prefix": "del ",
     "library": "var_list.py",
     "varRefreshCmd": "print(var_dic_list())"
    },
    "r": {
     "delete_cmd_postfix": ") ",
     "delete_cmd_prefix": "rm(",
     "library": "var_list.r",
     "varRefreshCmd": "cat(var_dic_list()) "
    }
   },
   "types_to_exclude": [
    "module",
    "function",
    "builtin_function_or_method",
    "instance",
    "_Feature"
   ],
   "window_display": false
  }
 },
 "nbformat": 4,
 "nbformat_minor": 4
}
