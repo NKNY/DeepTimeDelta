{
 "cells": [
  {
   "cell_type": "markdown",
   "metadata": {},
   "source": [
    "# Generate data from Table 2 to be used for statistical tests by R scripts in this folder"
   ]
  },
  {
   "cell_type": "code",
   "execution_count": null,
   "metadata": {},
   "outputs": [],
   "source": [
    "import os\n",
    "import json\n",
    "import collections\n",
    "import re\n",
    "\n",
    "import numpy as np\n",
    "import pandas as pd\n",
    "\n",
    "import seaborn as sns\n",
    "import matplotlib.pyplot as plt\n",
    "\n",
    "sns.set_style(\"darkgrid\")\n",
    "\n",
    "import warnings\n",
    "warnings.filterwarnings(\"ignore\")"
   ]
  },
  {
   "cell_type": "code",
   "execution_count": null,
   "metadata": {},
   "outputs": [],
   "source": [
    "# Ensure everything is rounded to 4 significant digits\n",
    "num_sign_digits = 4\n",
    "pd.options.display.float_format = ('{:,.' + str(num_sign_digits) + 'f}').format"
   ]
  },
  {
   "cell_type": "code",
   "execution_count": null,
   "metadata": {},
   "outputs": [],
   "source": [
    "results_path = \"/Users/nknyazev/Documents/Delft/Thesis/temporal/data/results/best_runs_201909.json\""
   ]
  },
  {
   "cell_type": "code",
   "execution_count": null,
   "metadata": {},
   "outputs": [],
   "source": [
    "output_root = \"/Users/nknyazev/Documents/Delft/Thesis/temporal/data/results/statistics/RQ2\"\n",
    "!mkdir -p $output_root"
   ]
  },
  {
   "cell_type": "code",
   "execution_count": null,
   "metadata": {},
   "outputs": [],
   "source": [
    "# https://stackoverflow.com/questions/6027558/flatten-nested-python-dictionaries-compressing-keys\n",
    "def flatten(d, parent_key='', sep='_'):\n",
    "    items = []\n",
    "    for k, v in d.items():\n",
    "        new_key = parent_key + sep + k if parent_key else k\n",
    "        if isinstance(v, collections.MutableMapping):\n",
    "            items.extend(flatten(v, new_key, sep=sep).items())\n",
    "        else:\n",
    "            items.append((new_key, v))\n",
    "    return dict(items)\n",
    "\n",
    "def convert_types(df):\n",
    "    cols = df.columns\n",
    "    types = [int, float, str]\n",
    "    for col in cols:\n",
    "        for t in types:\n",
    "            try:\n",
    "                df[col] = df[col].astype(t)\n",
    "                break\n",
    "            except ValueError as e:\n",
    "                pass\n",
    "    return df"
   ]
  },
  {
   "cell_type": "code",
   "execution_count": null,
   "metadata": {},
   "outputs": [],
   "source": [
    "find_subset = lambda x: \"low\" if \"low\" in x else \"medium\" if \"medium\" in x else \"high\"\n",
    "user_metric = lambda x: \"u_\" in x\n",
    "find_metric = lambda x: (\"u_recall\" if user_metric(x) else \"recall\") if \"recall\" in x else (\"u_mrr\" if user_metric(x) else \"mrr\")"
   ]
  },
  {
   "cell_type": "code",
   "execution_count": null,
   "metadata": {},
   "outputs": [],
   "source": [
    "with open(results_path) as input_file:\n",
    "    results = json.load(input_file)"
   ]
  },
  {
   "cell_type": "code",
   "execution_count": null,
   "metadata": {},
   "outputs": [],
   "source": [
    "for k, v in results.items():\n",
    "    results[k] = {**v[\"run_params\"], **flatten(v[\"results\"])}"
   ]
  },
  {
   "cell_type": "code",
   "execution_count": null,
   "metadata": {},
   "outputs": [],
   "source": [
    "df = pd.DataFrame(list(results.values()))"
   ]
  },
  {
   "cell_type": "code",
   "execution_count": null,
   "metadata": {},
   "outputs": [],
   "source": [
    "df = convert_types(df).round(num_sign_digits)"
   ]
  },
  {
   "cell_type": "code",
   "execution_count": null,
   "metadata": {},
   "outputs": [],
   "source": [
    "# # Sort by dataset and model_id\n",
    "# df = df.sort_values([\"dataset\", \"model_id\"])"
   ]
  },
  {
   "cell_type": "code",
   "execution_count": null,
   "metadata": {},
   "outputs": [],
   "source": [
    "# Filter out irrelevant cols\n",
    "groups = [\"low\", \"medium\", \"high\"]\n",
    "metrics = [\"recall\", \"mrr\", \"u_recall\", \"u_mrr\"]\n",
    "metrics_cols_to_keep = [f\"test_{x}_{y}\" for y in metrics for x in groups]\n",
    "cols_to_keep = [\"dataset\", \"model_id\"] + metrics_cols_to_keep"
   ]
  },
  {
   "cell_type": "code",
   "execution_count": null,
   "metadata": {},
   "outputs": [],
   "source": [
    "# Group\n",
    "df2 = df.copy()[cols_to_keep]\n",
    "df2[\"model_id\"] = df2[\"model_id\"].apply(lambda x: \"m{}\".format(x))\n",
    "df2 = df2.set_index([\"dataset\", \"model_id\"])\\\n",
    "        .sort_index()\n",
    "df2.index.set_names([\"Dataset\", \"model\"], inplace=True)\n",
    "\n",
    "outer_index = [find_metric(x) for x in df2.columns]\n",
    "inner_index = [find_subset(x) for x in df2.columns]\n",
    "\n",
    "df2.columns = [outer_index, inner_index]\n",
    "df2 = df2.stack()\n",
    "renaming_dict = {\"recall\": \"Recall\", \"mrr\": \"MRR\", \"u_recall\": \"UserRecall\", \"u_mrr\": \"UserMRR\"}\n",
    "df2 = df2.rename(renaming_dict, axis=1)[[\"Recall\", \"MRR\", \"UserRecall\", \"UserMRR\"]]\n",
    "df2.index.set_names([\"Dataset\", \"model\", \"dt_group\"], inplace=True)\n",
    "df2.index = df2.index.reorder_levels([\"Dataset\", \"dt_group\", \"model\"])\n",
    "df2 = df2.sort_values([\"Dataset\", \"dt_group\", \"model\"])\n",
    "df2 = df2.reindex([\"low\", \"medium\", \"high\"], level=1)\n"
   ]
  },
  {
   "cell_type": "code",
   "execution_count": null,
   "metadata": {},
   "outputs": [],
   "source": [
    "equation_df = pd.DataFrame([[0,0,0],[1,0,0],[0,1,0],[0,0,1],[1,1,0],[1,0,1],[0,1,1],[1,1,1]], columns=[\"eq1\", \"eq2\", \"eq3\"], dtype=bool)\n"
   ]
  },
  {
   "cell_type": "code",
   "execution_count": null,
   "metadata": {},
   "outputs": [],
   "source": [
    "repeated_equations = pd.concat([equation_df]*(len(df2.index)//len(equation_df)))\n",
    "repeated_equations.index = df2.index\n"
   ]
  },
  {
   "cell_type": "code",
   "execution_count": null,
   "metadata": {},
   "outputs": [],
   "source": [
    "output_df = df2.join(repeated_equations)"
   ]
  },
  {
   "cell_type": "code",
   "execution_count": null,
   "metadata": {},
   "outputs": [],
   "source": [
    "non_wide_path = os.path.join(output_root, \"nonwide.csv\")\n",
    "# output_df.to_csv(non_wide_path, index=True)"
   ]
  },
  {
   "cell_type": "code",
   "execution_count": null,
   "metadata": {},
   "outputs": [],
   "source": [
    "# R at some point orders columns alphabetically breaking the ordering\n",
    "a = output_df.reset_index()\n",
    "a[\"dt_group\"] = a[\"dt_group\"].apply(lambda x: {\"low\": \"a(low)\", \"medium\": \"b(medium)\", \"high\": \"c(high)\"}[x])\n",
    "a.to_csv(non_wide_path, index=False)"
   ]
  },
  {
   "cell_type": "code",
   "execution_count": null,
   "metadata": {},
   "outputs": [],
   "source": []
  },
  {
   "cell_type": "code",
   "execution_count": null,
   "metadata": {},
   "outputs": [],
   "source": []
  }
 ],
 "metadata": {
  "kernelspec": {
   "display_name": "Thesis_p3",
   "language": "python",
   "name": "thesis_p3"
  },
  "language_info": {
   "codemirror_mode": {
    "name": "ipython",
    "version": 3
   },
   "file_extension": ".py",
   "mimetype": "text/x-python",
   "name": "python",
   "nbconvert_exporter": "python",
   "pygments_lexer": "ipython3",
   "version": "3.6.5"
  }
 },
 "nbformat": 4,
 "nbformat_minor": 4
}
