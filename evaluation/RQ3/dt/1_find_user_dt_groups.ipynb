{
 "cells": [
  {
   "cell_type": "markdown",
   "metadata": {},
   "source": [
    "# 1 Find user dt behaviour\n",
    "\n",
    "Extracts statistics related to delta t, as specified in ../0. Calculates the thresholds for $\\text{low, middle, high}$ groups based on the provided quantiles for each of the statistic and assigns the user into groups on the basis of each of them. These are exported as a csv with index of uid and each column indicating a particular user's interaction dt statistic group according to a particular ranking. Note that the low-high classification of different features may lead to the opposite meanings in the same dt_group. For example, high interaction count is associated with the heavy use whereas high mean dt is associated with low use.\n",
    "\n",
    "Requires:\n",
    "\n",
    "* `user_stats.csv` from `../general/0` containing statistics specified by `STATS_TO_CALCULATE` for each user.\n",
    "\n",
    "Returns:\n",
    "\n",
    "* `uid2dt_groups.csv` where each row contains the user index and the remaining columns denote the user membership of the $\\text{low, middle, high}$ group for each of the stats specified by `STATS_TO_USE`."
   ]
  },
  {
   "cell_type": "code",
   "execution_count": null,
   "metadata": {},
   "outputs": [],
   "source": [
    "LOCATION = \"local\"\n",
    "DATASET = \"lastfm_10_pc\"\n",
    "STATS_TO_USE = [\"dt_median\", \"dt_mean\", \"dt_count\"]\n",
    "QUANTILES = {\"low\": 1/3, \"high\": 2/3}"
   ]
  },
  {
   "cell_type": "code",
   "execution_count": null,
   "metadata": {},
   "outputs": [],
   "source": [
    "import ast\n",
    "import datetime\n",
    "import os\n",
    "import subprocess\n",
    "\n",
    "import matplotlib.pyplot as plt\n",
    "import numpy as np\n",
    "import pandas as pd\n",
    "import scipy.stats as stats\n",
    "import seaborn as sns\n"
   ]
  },
  {
   "cell_type": "code",
   "execution_count": null,
   "metadata": {},
   "outputs": [],
   "source": [
    "data_root = {\n",
    "    \"local\": \"/Users/nknyazev/Documents/Delft/Thesis/temporal/data/results/RQ3\",\n",
    "    \"server\": \"/tudelft.net/staff-bulk/ewi/insy/MMC/nknyazev/RQ3\",\n",
    "    \"rtl\": \"s3://ci-data-apps/norman/sagemaker/thesis/offline-evaluation/RQ3\"\n",
    "}[LOCATION]\n",
    "\n",
    "output_root = {\n",
    "    \"local\": \"/Users/nknyazev/Documents/Delft/Thesis/temporal/data/results/RQ3\",\n",
    "    \"server\": \"/tudelft.net/staff-bulk/ewi/insy/MMC/nknyazev/RQ3\",\n",
    "    \"rtl\": \"s3://ci-data-apps/norman/sagemaker/thesis/offline-evaluation/RQ3\"\n",
    "}[LOCATION]"
   ]
  },
  {
   "cell_type": "code",
   "execution_count": null,
   "metadata": {},
   "outputs": [],
   "source": [
    "# DATASET stats input path\n",
    "# user_stats_output_path = f\"/Users/nknyazev/Documents/Delft/Thesis/temporal/data/results/{DATASET}/user_stats.csv\"\n",
    "data_filename = \"user_stats.csv\"\n",
    "data_path = os.path.join(data_root, DATASET, data_filename)\n",
    "\n",
    "# User preference output path\n",
    "# output_path = f\"/Users/nknyazev/Documents/Delft/Thesis/temporal/data/results/{DATASET}/uid2mainstreamness.csv\"\n",
    "output_filename = \"uid2dt_groups.csv\"\n",
    "output_folder = os.path.join(output_root, DATASET)\n",
    "output_path = os.path.join(output_folder, output_filename)"
   ]
  },
  {
   "cell_type": "code",
   "execution_count": null,
   "metadata": {},
   "outputs": [],
   "source": [
    "# Load user df containing user histories\n",
    "if LOCATION != \"rtl\":\n",
    "    user_stats = pd.read_csv(data_path, sep=\"\\t\", index_col=0)[STATS_TO_USE]\n",
    "else:\n",
    "    tmp_folder = '/tmp'\n",
    "    _ = subprocess.call([\"aws\", 's3', 'cp', data_path, tmp_folder])\n",
    "    tmp_path = os.path.join(tmp_folder, data_filename)\n",
    "    user_stats = pd.read_csv(tmp_path, sep=\"\\t\", index_col=0)[STATS_TO_USE]\n",
    "    _ = subprocess.call(['rm', tmp_path])"
   ]
  },
  {
   "cell_type": "code",
   "execution_count": null,
   "metadata": {},
   "outputs": [],
   "source": [
    "# Calculate the thresholds for each of the groups for each of the stats\n",
    "# Note that the thresholds are the tuples of the highest allowed low value and highest allowed medium value\n",
    "thresholds = {c: {g: user_stats[c].quantile(q) for g, q in QUANTILES.items()} for c in STATS_TO_USE}"
   ]
  },
  {
   "cell_type": "code",
   "execution_count": null,
   "metadata": {},
   "outputs": [],
   "source": [
    "# Resulting thresholds (in seconds or num interactions)\n",
    "thresholds"
   ]
  },
  {
   "cell_type": "code",
   "execution_count": null,
   "metadata": {},
   "outputs": [],
   "source": [
    "# Function used to calculate the user group membership based on the two thresholds and the user's value\n",
    "assign_group = lambda x, low, high: \"low\" if x <= low else \"high\" if x > high else \"middle\""
   ]
  },
  {
   "cell_type": "code",
   "execution_count": null,
   "metadata": {},
   "outputs": [],
   "source": [
    "# Calculate the user low/medium/high membership for each of the used stats\n",
    "output_df = user_stats.copy()\n",
    "new_column_names = []\n",
    "for c, q in thresholds.items():\n",
    "    new_column_name = c + \"_group\"\n",
    "    output_df[new_column_name] = output_df[c].apply(lambda x: assign_group(x, *q.values()))\n",
    "    new_column_names.append(new_column_name)"
   ]
  },
  {
   "cell_type": "code",
   "execution_count": null,
   "metadata": {},
   "outputs": [],
   "source": [
    "# Save as csv\n",
    "if LOCATION != \"rtl\":\n",
    "    output_df.to_csv(output_path, sep=\"\\t\", columns=new_column_names, index=True)\n",
    "else:\n",
    "    output_df.to_csv(tmp_path, sep=\"\\t\", columns=new_column_names, index=True)\n",
    "    _ = subprocess.call([\"aws\", 's3', 'cp', tmp_path, output_path])\n",
    "    _ = subprocess.call(['rm', tmp_path])"
   ]
  },
  {
   "cell_type": "code",
   "execution_count": null,
   "metadata": {},
   "outputs": [],
   "source": []
  }
 ],
 "metadata": {
  "kernelspec": {
   "display_name": "Thesis_p3",
   "language": "python",
   "name": "thesis_p3"
  },
  "language_info": {
   "codemirror_mode": {
    "name": "ipython",
    "version": 3
   },
   "file_extension": ".py",
   "mimetype": "text/x-python",
   "name": "python",
   "nbconvert_exporter": "python",
   "pygments_lexer": "ipython3",
   "version": "3.6.5"
  }
 },
 "nbformat": 4,
 "nbformat_minor": 4
}
