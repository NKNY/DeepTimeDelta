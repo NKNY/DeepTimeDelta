{
 "cells": [
  {
   "cell_type": "markdown",
   "metadata": {},
   "source": [
    "# 2 Combine low/middle/high groupings (e.g. mainstreamness and dt_stats)\n",
    "\n",
    "Load data obtained from steps 1 and combine it into one user-indexed csv with values $\\in [\\text{low, middle, high}]$.\n",
    "\n",
    "Requires:\n",
    "* Files contained by `DATA_FILENAMES` where each row specifies the user id and the remaining columns denote the user membership of the $\\text{low, middle, high}$ group for each of the stats that is to be used to partition users. All files have to have the same user ids.\n",
    "    \n",
    "Returns:\n",
    "* `uid2stats.csv` containing the contents of all input files joined on the user id."
   ]
  },
  {
   "cell_type": "code",
   "execution_count": null,
   "metadata": {},
   "outputs": [],
   "source": [
    "LOCATION = \"local\"\n",
    "DATASET = \"lastfm_10_pc\"\n",
    "DATA_FILENAMES = [\"uid2mainstreamness.csv\", \"uid2dt_groups.csv\"]"
   ]
  },
  {
   "cell_type": "code",
   "execution_count": null,
   "metadata": {},
   "outputs": [],
   "source": [
    "import ast\n",
    "import datetime\n",
    "import functools\n",
    "import os\n",
    "import subprocess\n",
    "\n",
    "import matplotlib.pyplot as plt\n",
    "import numpy as np\n",
    "import pandas as pd\n",
    "import scipy.stats as stats\n",
    "import seaborn as sns\n"
   ]
  },
  {
   "cell_type": "code",
   "execution_count": null,
   "metadata": {},
   "outputs": [],
   "source": [
    "data_root = {\n",
    "    \"local\": \"/Users/nknyazev/Documents/Delft/Thesis/temporal/data/results/RQ3\",\n",
    "    \"server\": \"/tudelft.net/staff-bulk/ewi/insy/MMC/nknyazev/RQ3\",\n",
    "    \"rtl\": \"s3://ci-data-apps/norman/sagemaker/thesis/offline-evaluation/RQ3\"\n",
    "}[LOCATION]\n",
    "\n",
    "output_root = {\n",
    "    \"local\": \"/Users/nknyazev/Documents/Delft/Thesis/temporal/data/results/RQ3\",\n",
    "    \"server\": \"/tudelft.net/staff-bulk/ewi/insy/MMC/nknyazev/RQ3\",\n",
    "    \"rtl\": \"s3://ci-data-apps/norman/sagemaker/thesis/offline-evaluation/RQ3\"\n",
    "}[LOCATION]"
   ]
  },
  {
   "cell_type": "code",
   "execution_count": null,
   "metadata": {},
   "outputs": [],
   "source": [
    "data_paths = [os.path.join(data_root, DATASET, n) for n in DATA_FILENAMES]\n",
    "output_filename = \"uid2stats.csv\"\n",
    "output_folder = os.path.join(output_root, DATASET)\n",
    "output_path = os.path.join(output_folder, output_filename)"
   ]
  },
  {
   "cell_type": "code",
   "execution_count": null,
   "metadata": {},
   "outputs": [],
   "source": [
    "# Load dfs containing all memberships and combine into one\n",
    "if LOCATION != \"rtl\":\n",
    "    dfs = [pd.read_csv(p, sep=\"\\t\", index_col=0) for p in data_paths]\n",
    "    # Confirm that all dataframes the same length\n",
    "    assert (lambda a: ~np.any(y-np.max(y)))(np.array([x.shape[0] for x in dfs]))\n",
    "    output_df = functools.reduce(lambda a,b: pd.DataFrame.join(a,b), dfs)\n",
    "else:\n",
    "    tmp_folder = \"/tmp\"\n",
    "    _ = [subprocess.call([\"aws\", 's3', 'cp', x, tmp_folder]) for x in data_paths]\n",
    "    _data_paths = [os.path.join(tmp_folder, x) for x in DATA_FILENAMES]\n",
    "    dfs = [pd.read_csv(p, sep=\"\\t\", index_col=0) for p in _data_paths]\n",
    "    # Confirm that all dataframes the same length\n",
    "    assert (lambda y: ~np.any(y-np.max(y)))(np.array([x.shape[0] for x in dfs]))\n",
    "    output_df = functools.reduce(lambda a,b: pd.DataFrame.join(a,b), dfs)\n",
    "    _ = subprocess.call(['rm'] + _data_paths)"
   ]
  },
  {
   "cell_type": "code",
   "execution_count": null,
   "metadata": {},
   "outputs": [],
   "source": [
    "# Save as csv\n",
    "if LOCATION != \"rtl\":\n",
    "    output_df.to_csv(output_path, sep=\"\\t\", index=True)\n",
    "else:\n",
    "    tmp_folder = \"/tmp\"\n",
    "    tmp_path = os.path.join(tmp_folder, output_filename)\n",
    "    output_df.to_csv(tmp_path, sep=\"\\t\", index=True)\n",
    "    _ = subprocess.call([\"aws\", 's3', 'cp', tmp_path, output_path])\n",
    "    _ = subprocess.call(['rm', tmp_path])"
   ]
  },
  {
   "cell_type": "code",
   "execution_count": null,
   "metadata": {},
   "outputs": [],
   "source": []
  }
 ],
 "metadata": {
  "kernelspec": {
   "display_name": "Thesis_p3",
   "language": "python",
   "name": "thesis_p3"
  },
  "language_info": {
   "codemirror_mode": {
    "name": "ipython",
    "version": 3
   },
   "file_extension": ".py",
   "mimetype": "text/x-python",
   "name": "python",
   "nbconvert_exporter": "python",
   "pygments_lexer": "ipython3",
   "version": "3.6.5"
  }
 },
 "nbformat": 4,
 "nbformat_minor": 2
}
