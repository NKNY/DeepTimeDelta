{
 "cells": [
  {
   "cell_type": "markdown",
   "metadata": {},
   "source": [
    "# 6 Combine results with groupings to get final results\n",
    "\n",
    "Combine individual user results\\* from step 5 together with user groupings from step 2 to calculate final results for every subset for every supported grouping for each of its category for each metric\n",
    "\n",
    "Requires:\n",
    "* user_evaluator_results.json containing each user's numerator and denominator\n",
    "* uid2stats.csv denoting the user membership of the  low, middle, high  group for each of the stats specified during previous steps.\n",
    "\n",
    "Returns:\n",
    "* uid2final_results.csv containing results described above\n",
    "\n",
    "###### that can be used to calculate non user metrics"
   ]
  },
  {
   "cell_type": "code",
   "execution_count": null,
   "metadata": {},
   "outputs": [],
   "source": [
    "LOCATION = \"local\"\n",
    "DATASET = \"lastfm_10_pc\""
   ]
  },
  {
   "cell_type": "code",
   "execution_count": null,
   "metadata": {},
   "outputs": [],
   "source": [
    "import ast\n",
    "import datetime\n",
    "import functools\n",
    "import os\n",
    "import subprocess\n",
    "\n",
    "from io import StringIO\n",
    "\n",
    "import boto3\n",
    "import matplotlib.pyplot as plt\n",
    "import numpy as np\n",
    "import pandas as pd\n",
    "import scipy.stats as stats\n",
    "import seaborn as sns\n"
   ]
  },
  {
   "cell_type": "code",
   "execution_count": null,
   "metadata": {},
   "outputs": [],
   "source": [
    "grouping_root = {\n",
    "    \"local\": \"/Users/nknyazev/Documents/Delft/Thesis/temporal/data/results/RQ3\",\n",
    "    \"server\": \"/tudelft.net/staff-bulk/ewi/insy/MMC/nknyazev/RQ3\",\n",
    "    \"rtl\": \"s3://ci-data-apps/norman/sagemaker/thesis/offline-evaluation/RQ3\"\n",
    "}[LOCATION]\n",
    "\n",
    "results_root = {\n",
    "    \"local\": \"/Users/nknyazev/Documents/Delft/Thesis/temporal/data/results/RQ3\",\n",
    "    \"server\": \"/tudelft.net/staff-bulk/ewi/insy/MMC/nknyazev/RQ3\",\n",
    "    \"rtl\": \"s3://ci-data-apps/norman/sagemaker/thesis/offline-evaluation/RQ3\"\n",
    "}[LOCATION]\n",
    "\n",
    "output_root = {\n",
    "    \"local\": \"/Users/nknyazev/Documents/Delft/Thesis/temporal/data/results/RQ3\",\n",
    "    \"server\": \"/tudelft.net/staff-bulk/ewi/insy/MMC/nknyazev/RQ3\",\n",
    "    \"rtl\": \"s3://ci-data-apps/norman/sagemaker/thesis/offline-evaluation/RQ3\"\n",
    "}[LOCATION]"
   ]
  },
  {
   "cell_type": "code",
   "execution_count": null,
   "metadata": {},
   "outputs": [],
   "source": [
    "grouping_filename = 'uid2stats.csv'\n",
    "results_filename = 'user_evaluator_results.json'\n",
    "output_filename = 'final_results.csv'"
   ]
  },
  {
   "cell_type": "code",
   "execution_count": null,
   "metadata": {},
   "outputs": [],
   "source": [
    "grouping_path = os.path.join(grouping_root, DATASET, grouping_filename)\n",
    "results_path = os.path.join(results_root, DATASET, results_filename)\n",
    "output_folder = os.path.join(output_root, DATASET)\n",
    "output_path = os.path.join(output_folder, output_filename)"
   ]
  },
  {
   "cell_type": "code",
   "execution_count": null,
   "metadata": {},
   "outputs": [],
   "source": [
    "if LOCATION != \"rtl\":\n",
    "    grouping_df = pd.read_csv(grouping_path, sep='\\t', index_col=\"uid\")\n",
    "    results_df = pd.read_csv(results_path, sep='\\t', index_col=\"uid\")\n",
    "else:\n",
    "    client = boto3.client('s3')\n",
    "    grouping_bucket = grouping_path.split(\"/\")[2]\n",
    "    results_bucket = results_path.split('/')[2]\n",
    "    grouping_key = re.findall(grouping_bucket + \"/(.+)\", grouping_path)[0]\n",
    "    results_key = re.findall(results_bucket + \"/(.+)\", results_path)[0]\n",
    "    grouping_string = client.get_object(Bucket=grouping_bucket, Key=grouping_key)[\"Body\"].read().decode('utf-8')\n",
    "    results_string = client.get_object(Bucket=results_bucket, Key=results_key)[\"Body\"].read().decode('utf-8')\n",
    "    grouping_df = pd.read_csv(StringIO(grouping_string), sep='\\t', index_col=\"uid\")\n",
    "    results_df = pd.read_csv(StringIO(results_string), sep='\\t', index_col=\"uid\")"
   ]
  },
  {
   "cell_type": "code",
   "execution_count": null,
   "metadata": {},
   "outputs": [],
   "source": [
    "# Remove users with 0 interactions for each of the sets\n",
    "results_df = results_df[results_df.denom != 0]"
   ]
  },
  {
   "cell_type": "code",
   "execution_count": null,
   "metadata": {},
   "outputs": [],
   "source": [
    "# Rename metric column not to include u_\n",
    "results_df.metric = results_df.metric.apply(lambda x: x[2:])"
   ]
  },
  {
   "cell_type": "code",
   "execution_count": null,
   "metadata": {},
   "outputs": [],
   "source": [
    "# Vars to be included in the final output\n",
    "grouping_vars = grouping_df.columns\n",
    "results_vars = [\"subset\", 'model_id', 'metric', 'uid', 'num', 'denom', 'user_score']"
   ]
  },
  {
   "cell_type": "code",
   "execution_count": null,
   "metadata": {},
   "outputs": [],
   "source": [
    "# Merge all data on user id and implement multiindex\n",
    "df = results_df.join(grouping_df, how=\"inner\")\\\n",
    "    .reset_index()"
   ]
  },
  {
   "cell_type": "code",
   "execution_count": null,
   "metadata": {},
   "outputs": [],
   "source": [
    "# Add column containing u_(recall|mrr) score for the given user\n",
    "df[\"user_score\"] = df[\"num\"]/df[\"denom\"]"
   ]
  },
  {
   "cell_type": "code",
   "execution_count": null,
   "metadata": {},
   "outputs": [],
   "source": [
    "# Set grouping names as values in one column and the associated category for that column in another\n",
    "# Number of entries is increased sum of categories times\n",
    "melted = df.melt(\n",
    "    id_vars = results_vars, \n",
    "    value_vars = grouping_vars,\n",
    "    var_name = 'grouping',\n",
    "    value_name = 'category'\n",
    ")\n",
    "melted.head(10)"
   ]
  },
  {
   "cell_type": "code",
   "execution_count": null,
   "metadata": {},
   "outputs": [],
   "source": [
    "# Calculate the results for standard and user metrics\n",
    "groupby = melted.groupby(['subset', \"grouping\", 'category', 'model_id', 'metric'])\n",
    "\n",
    "metrics = groupby['num'].sum() / groupby['denom'].sum()\n",
    "u_metrics = groupby['user_score'].mean()"
   ]
  },
  {
   "cell_type": "code",
   "execution_count": null,
   "metadata": {},
   "outputs": [],
   "source": [
    "# Combine the two into one DataFrame and create 4 columns, one for each metric\n",
    "output_df = pd.DataFrame([metrics, u_metrics], index=[\"\", \"u_\"]).T\\\n",
    "        .unstack(-1)\n",
    "output_df.columns = [\"\".join(x) for x in output_df.columns.tolist()]"
   ]
  },
  {
   "cell_type": "code",
   "execution_count": null,
   "metadata": {},
   "outputs": [],
   "source": [
    "# Reorder low, medium, high so low is first and high is last\n",
    "cat_to_int = {\"low\":0, \"middle\":1, \"high\":2}\n",
    "int_to_cat = {v:k for k,v in cat_to_int.items()}\n",
    "output_df = output_df.rename(cat_to_int, level=2)\\\n",
    "        .sort_index()\\\n",
    "        .rename(int_to_cat, level=2)"
   ]
  },
  {
   "cell_type": "code",
   "execution_count": null,
   "metadata": {},
   "outputs": [],
   "source": [
    "output_df.head(10)"
   ]
  },
  {
   "cell_type": "code",
   "execution_count": null,
   "metadata": {},
   "outputs": [],
   "source": [
    "# Write the results\n",
    "if LOCATION != \"rtl\":\n",
    "    output_df.to_csv(output_path, sep=\"\\t\")\n",
    "else:\n",
    "    tmp_folder = \"/tmp\"\n",
    "    tmp_path = os.path.join(tmp_folder, output_filename)\n",
    "    output_df.to_csv(tmp_path, sep=\"\\t\")\n",
    "    _ = subprocess.call(['aws', 's3', 'cp', tmp_path, output_path])\n",
    "    os.remove(tmp_path)"
   ]
  }
 ],
 "metadata": {
  "kernelspec": {
   "display_name": "Thesis_p3",
   "language": "python",
   "name": "thesis_p3"
  },
  "language_info": {
   "codemirror_mode": {
    "name": "ipython",
    "version": 3
   },
   "file_extension": ".py",
   "mimetype": "text/x-python",
   "name": "python",
   "nbconvert_exporter": "python",
   "pygments_lexer": "ipython3",
   "version": "3.6.5"
  }
 },
 "nbformat": 4,
 "nbformat_minor": 2
}
