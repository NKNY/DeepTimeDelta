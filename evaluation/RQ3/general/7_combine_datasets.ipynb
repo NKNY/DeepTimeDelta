{
 "cells": [
  {
   "cell_type": "markdown",
   "metadata": {},
   "source": [
    "# 7 Download rtl results from s3 and merges results for all dataset\n",
    "\n",
    "**Execute locally**\n",
    "\n",
    "Requires:\n",
    "* dataset/final_results.csv for every dataset name in LOCAL_DATASETS\n",
    "* dataset/final_results.csv for every dataset in S3_DATASETS\n",
    "\n",
    "Returns:\n",
    "* final_results.csv containing the results contained in the input files with an additional column denoting the dataset"
   ]
  },
  {
   "cell_type": "code",
   "execution_count": null,
   "metadata": {},
   "outputs": [],
   "source": [
    "LOCAL_DATASETS = [\"lastfm_10_pc\", \"ml-10m\"]\n",
    "S3_DATASETS = [\"rtl\"]"
   ]
  },
  {
   "cell_type": "code",
   "execution_count": null,
   "metadata": {},
   "outputs": [],
   "source": [
    "import os\n",
    "import subprocess\n",
    "\n",
    "from io import StringIO\n",
    "\n",
    "import boto3\n",
    "import pandas as pd"
   ]
  },
  {
   "cell_type": "code",
   "execution_count": null,
   "metadata": {},
   "outputs": [],
   "source": [
    "def download_s3_csv(bucket, key):\n",
    "    client = boto3.client('s3')\n",
    "    csv_obj = client.get_object(Bucket=bucket, Key=key)\n",
    "    body = csv_obj['Body']\n",
    "    csv_string = body.read().decode('utf-8')\n",
    "    buffer = StringIO(csv_string)\n",
    "    return buffer"
   ]
  },
  {
   "cell_type": "code",
   "execution_count": null,
   "metadata": {},
   "outputs": [],
   "source": [
    "local_data_path = \"/Users/nknyazev/Documents/Delft/Thesis/temporal/data/results/RQ3\"\n",
    "s3_bucket = \"ci-data-apps\"\n",
    "s3_folder_key = \"norman/sagemaker/thesis/offline-evaluation/RQ3\"\n",
    "data_filename = 'final_results.csv'\n",
    "\n",
    "output_path = \"/Users/nknyazev/Documents/Delft/Thesis/temporal/data/results/RQ3/final_results.csv\""
   ]
  },
  {
   "cell_type": "code",
   "execution_count": null,
   "metadata": {},
   "outputs": [],
   "source": [
    "for d in LOCAL_DATASETS:\n",
    "    _ = subprocess.call([\"scp\", f\"nknyazev@student-linux.tudelft.nl:/tudelft.net/staff-bulk/ewi/insy/MMC/nknyazev/RQ3/{d}/{data_filename}\", os.path.join(local_data_path, d, data_filename)])"
   ]
  },
  {
   "cell_type": "code",
   "execution_count": null,
   "metadata": {},
   "outputs": [],
   "source": [
    "local_dfs = {d: pd.read_csv(os.path.join(local_data_path, d, data_filename), sep='\\t') for d in LOCAL_DATASETS}\n",
    "s3_dfs = {d: pd.read_csv(download_s3_csv(s3_bucket, os.path.join(s3_folder_key, d, data_filename)), sep='\\t') for d in S3_DATASETS}"
   ]
  },
  {
   "cell_type": "code",
   "execution_count": null,
   "metadata": {},
   "outputs": [],
   "source": [
    "dfs = {**local_dfs, **s3_dfs}"
   ]
  },
  {
   "cell_type": "code",
   "execution_count": null,
   "metadata": {},
   "outputs": [],
   "source": [
    "for d in dfs:\n",
    "    original_columns = dfs[d].columns.tolist()\n",
    "    dfs[d]['dataset'] = d\n",
    "    dfs[d] = dfs[d][['dataset'] + original_columns]"
   ]
  },
  {
   "cell_type": "code",
   "execution_count": null,
   "metadata": {},
   "outputs": [],
   "source": [
    "df = pd.concat(list(dfs.values()), ignore_index=True)"
   ]
  },
  {
   "cell_type": "code",
   "execution_count": null,
   "metadata": {},
   "outputs": [],
   "source": [
    "df.to_csv(output_path, sep=\"\\t\", index=False)"
   ]
  },
  {
   "cell_type": "code",
   "execution_count": null,
   "metadata": {},
   "outputs": [],
   "source": []
  }
 ],
 "metadata": {
  "kernelspec": {
   "display_name": "Thesis_p3",
   "language": "python",
   "name": "thesis_p3"
  },
  "language_info": {
   "codemirror_mode": {
    "name": "ipython",
    "version": 3
   },
   "file_extension": ".py",
   "mimetype": "text/x-python",
   "name": "python",
   "nbconvert_exporter": "python",
   "pygments_lexer": "ipython3",
   "version": "3.6.5"
  }
 },
 "nbformat": 4,
 "nbformat_minor": 2
}
