{
 "cells": [
  {
   "cell_type": "markdown",
   "metadata": {},
   "source": [
    "# Generate data for statistical evaluation\n",
    "\n",
    "Generate one csv table per grouping containing all categories. Only exporting test set's results.\n",
    "The data is expected to have the following columns:\n",
    "* Dataset: {lastfm_10_pc|ml-10m|rtl}\n",
    "* dt_group: {a(low), b(medium), c(high)}\n",
    "* model: {m0-7}\n",
    "* Recall, MRR, UserRecall, UserMRR: float\n",
    "* eq1, eq2, eq3: bool\n",
    "\n",
    "Requires:\n",
    "* final_results.csv - containing all results for all metrics for all categories for all groupings for all datasets.\n",
    "\n",
    "Returns:\n",
    "* csv files containing specified columns, one file per grouping (e.g. Kendalls Tau, mean_dt etc.)"
   ]
  },
  {
   "cell_type": "code",
   "execution_count": null,
   "metadata": {},
   "outputs": [],
   "source": [
    "import os\n",
    "\n",
    "import numpy as np\n",
    "import pandas as pd"
   ]
  },
  {
   "cell_type": "code",
   "execution_count": null,
   "metadata": {},
   "outputs": [],
   "source": [
    "input_path = \"/Users/nknyazev/Documents/Delft/Thesis/temporal/data/results/RQ3/final_results.csv\"\n",
    "output_folder = \"/Users/nknyazev/Documents/Delft/Thesis/temporal/data/results/statistics/RQ3\""
   ]
  },
  {
   "cell_type": "code",
   "execution_count": null,
   "metadata": {},
   "outputs": [],
   "source": [
    "output_columns = [\"Dataset\", 'dt_group', 'model', 'Recall', 'MRR', 'UserRecall', 'UserMRR', 'eq1', 'eq2', 'eq3']"
   ]
  },
  {
   "cell_type": "code",
   "execution_count": null,
   "metadata": {},
   "outputs": [],
   "source": [
    "input_df = pd.read_csv(input_path, sep=\"\\t\")"
   ]
  },
  {
   "cell_type": "code",
   "execution_count": null,
   "metadata": {},
   "outputs": [],
   "source": [
    "output_df = input_df[input_df[\"subset\"] == \"test\"].drop('subset', axis=1).copy()\n",
    "output_df['eq1'] = output_df['model_id'].apply(lambda x: x in [1,4,5,7])\n",
    "output_df['eq2'] = output_df['model_id'].apply(lambda x: x in [2,4,6,7])\n",
    "output_df['eq3'] = output_df['model_id'].apply(lambda x: x in [3,5,6,7])\n",
    "output_df['model_id'] = output_df['model_id'].apply(lambda x: f\"m{x}\")\n",
    "output_df['category'] = output_df['category'].replace({'low': 'a(low)', 'middle': 'b(medium)', 'high': 'c(high)'})\n",
    "\n",
    "output_df = output_df.rename(\n",
    "    {'dataset': 'Dataset', 'category': 'dt_group', 'model_id': 'model', 'mrr': 'MRR', 'recall': 'Recall', 'u_recall': 'UserRecall', 'u_mrr': 'UserMRR'}, axis=1\n",
    ")"
   ]
  },
  {
   "cell_type": "code",
   "execution_count": null,
   "metadata": {},
   "outputs": [],
   "source": [
    "for grouping, df in output_df.groupby('grouping'):\n",
    "    output_path = os.path.join(output_folder, f'{grouping}_nonwide.csv')\n",
    "    df[output_columns].to_csv(output_path, index=False)"
   ]
  }
 ],
 "metadata": {
  "kernelspec": {
   "display_name": "Thesis_p3",
   "language": "python",
   "name": "thesis_p3"
  },
  "language_info": {
   "codemirror_mode": {
    "name": "ipython",
    "version": 3
   },
   "file_extension": ".py",
   "mimetype": "text/x-python",
   "name": "python",
   "nbconvert_exporter": "python",
   "pygments_lexer": "ipython3",
   "version": "3.6.5"
  }
 },
 "nbformat": 4,
 "nbformat_minor": 4
}
